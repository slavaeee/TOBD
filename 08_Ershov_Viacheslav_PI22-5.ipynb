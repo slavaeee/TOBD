{
 "cells": [
  {
   "attachments": {},
   "cell_type": "markdown",
   "metadata": {},
   "source": [
    "## Ершов Вячеслав ПИ22-5. Оптимизация выполнения кода, векторизация, Numba"
   ]
  },
  {
   "attachments": {},
   "cell_type": "markdown",
   "metadata": {},
   "source": [
    "Материалы:\n",
    "* Макрушин С.В. Лекция 3: Оптимизация выполнения кода, векторизация, Numba\n",
    "* IPython Cookbook, Second Edition (2018), глава 4\n",
    "* https://numba.pydata.org/numba-doc/latest/user/5minguide.html"
   ]
  },
  {
   "attachments": {},
   "cell_type": "markdown",
   "metadata": {},
   "source": [
    "## Задачи для совместного разбора"
   ]
  },
  {
   "attachments": {},
   "cell_type": "markdown",
   "metadata": {},
   "source": [
    "1. Сгенерируйте массив `A` из `N=1млн` случайных целых чисел на отрезке от 0 до 1000. Пусть `B[i] = A[i] + 100`. Посчитайте среднее значение массива `B`."
   ]
  },
  {
   "cell_type": "code",
   "execution_count": 8,
   "metadata": {},
   "outputs": [
    {
     "data": {
      "text/plain": [
       "599.75218"
      ]
     },
     "execution_count": 8,
     "metadata": {},
     "output_type": "execute_result"
    }
   ],
   "source": [
    "import random\n",
    "N, A, B = 1000000, [random.randint(0, 1000) for i in range(N)], [a + 100 for a in A]\n",
    "sum(B) / N"
   ]
  },
  {
   "attachments": {},
   "cell_type": "markdown",
   "metadata": {},
   "source": [
    "2. Создайте таблицу 2млн строк и с 4 столбцами, заполненными случайными числами. Добавьте столбец `key`, которые содержит элементы из множества английских букв. Выберите из таблицы подмножество строк, для которых в столбце `key` указаны первые 5 английских букв."
   ]
  },
  {
   "cell_type": "code",
   "execution_count": 12,
   "metadata": {},
   "outputs": [
    {
     "data": {
      "text/html": [
       "<div>\n",
       "<style scoped>\n",
       "    .dataframe tbody tr th:only-of-type {\n",
       "        vertical-align: middle;\n",
       "    }\n",
       "\n",
       "    .dataframe tbody tr th {\n",
       "        vertical-align: top;\n",
       "    }\n",
       "\n",
       "    .dataframe thead th {\n",
       "        text-align: right;\n",
       "    }\n",
       "</style>\n",
       "<table border=\"1\" class=\"dataframe\">\n",
       "  <thead>\n",
       "    <tr style=\"text-align: right;\">\n",
       "      <th></th>\n",
       "      <th>1</th>\n",
       "      <th>2</th>\n",
       "      <th>3</th>\n",
       "      <th>4</th>\n",
       "      <th>key</th>\n",
       "    </tr>\n",
       "  </thead>\n",
       "  <tbody>\n",
       "    <tr>\n",
       "      <th>0</th>\n",
       "      <td>0.103603</td>\n",
       "      <td>0.329251</td>\n",
       "      <td>0.301553</td>\n",
       "      <td>0.676110</td>\n",
       "      <td>d</td>\n",
       "    </tr>\n",
       "    <tr>\n",
       "      <th>5</th>\n",
       "      <td>0.250824</td>\n",
       "      <td>0.750851</td>\n",
       "      <td>0.451737</td>\n",
       "      <td>0.027784</td>\n",
       "      <td>b</td>\n",
       "    </tr>\n",
       "    <tr>\n",
       "      <th>15</th>\n",
       "      <td>0.526242</td>\n",
       "      <td>0.643965</td>\n",
       "      <td>0.531371</td>\n",
       "      <td>0.250244</td>\n",
       "      <td>b</td>\n",
       "    </tr>\n",
       "    <tr>\n",
       "      <th>18</th>\n",
       "      <td>0.644902</td>\n",
       "      <td>0.680996</td>\n",
       "      <td>0.424857</td>\n",
       "      <td>0.138413</td>\n",
       "      <td>c</td>\n",
       "    </tr>\n",
       "    <tr>\n",
       "      <th>20</th>\n",
       "      <td>0.192212</td>\n",
       "      <td>0.317171</td>\n",
       "      <td>0.349968</td>\n",
       "      <td>0.592542</td>\n",
       "      <td>e</td>\n",
       "    </tr>\n",
       "    <tr>\n",
       "      <th>...</th>\n",
       "      <td>...</td>\n",
       "      <td>...</td>\n",
       "      <td>...</td>\n",
       "      <td>...</td>\n",
       "      <td>...</td>\n",
       "    </tr>\n",
       "    <tr>\n",
       "      <th>1999976</th>\n",
       "      <td>0.949529</td>\n",
       "      <td>0.804552</td>\n",
       "      <td>0.540118</td>\n",
       "      <td>0.354177</td>\n",
       "      <td>b</td>\n",
       "    </tr>\n",
       "    <tr>\n",
       "      <th>1999984</th>\n",
       "      <td>0.694213</td>\n",
       "      <td>0.917859</td>\n",
       "      <td>0.773019</td>\n",
       "      <td>0.059782</td>\n",
       "      <td>a</td>\n",
       "    </tr>\n",
       "    <tr>\n",
       "      <th>1999990</th>\n",
       "      <td>0.254923</td>\n",
       "      <td>0.184070</td>\n",
       "      <td>0.044317</td>\n",
       "      <td>0.727526</td>\n",
       "      <td>d</td>\n",
       "    </tr>\n",
       "    <tr>\n",
       "      <th>1999992</th>\n",
       "      <td>0.089897</td>\n",
       "      <td>0.389757</td>\n",
       "      <td>0.618148</td>\n",
       "      <td>0.438823</td>\n",
       "      <td>d</td>\n",
       "    </tr>\n",
       "    <tr>\n",
       "      <th>1999998</th>\n",
       "      <td>0.540564</td>\n",
       "      <td>0.019478</td>\n",
       "      <td>0.229825</td>\n",
       "      <td>0.285713</td>\n",
       "      <td>e</td>\n",
       "    </tr>\n",
       "  </tbody>\n",
       "</table>\n",
       "<p>399595 rows × 5 columns</p>\n",
       "</div>"
      ],
      "text/plain": [
       "                1         2         3         4 key\n",
       "0        0.103603  0.329251  0.301553  0.676110   d\n",
       "5        0.250824  0.750851  0.451737  0.027784   b\n",
       "15       0.526242  0.643965  0.531371  0.250244   b\n",
       "18       0.644902  0.680996  0.424857  0.138413   c\n",
       "20       0.192212  0.317171  0.349968  0.592542   e\n",
       "...           ...       ...       ...       ...  ..\n",
       "1999976  0.949529  0.804552  0.540118  0.354177   b\n",
       "1999984  0.694213  0.917859  0.773019  0.059782   a\n",
       "1999990  0.254923  0.184070  0.044317  0.727526   d\n",
       "1999992  0.089897  0.389757  0.618148  0.438823   d\n",
       "1999998  0.540564  0.019478  0.229825  0.285713   e\n",
       "\n",
       "[399595 rows x 5 columns]"
      ]
     },
     "execution_count": 12,
     "metadata": {},
     "output_type": "execute_result"
    }
   ],
   "source": [
    "import pandas as pd\n",
    "import numpy as np\n",
    "df = pd.DataFrame(np.random.rand(2000000, 4), columns=['1', '2', '3', '4'])\n",
    "df['key'] = [chr(np.random.randint(97, 122)) for i in range(2000000)]\n",
    "df[df['key'].str.contains('^[a-eA-E]')]"
   ]
  },
  {
   "attachments": {},
   "cell_type": "markdown",
   "metadata": {},
   "source": [
    "## Лабораторная работа 3"
   ]
  },
  {
   "attachments": {},
   "cell_type": "markdown",
   "metadata": {},
   "source": [
    "1. В файлах `recipes_sample.csv` и `reviews_sample.csv` (__ЛР 2__) находится информация об рецептах блюд и отзывах на эти рецепты соответственно. Загрузите данные из файлов в виде `pd.DataFrame` с названиями `recipes` и `reviews`. Обратите внимание на корректное считывание столбца(ов) с индексами. Приведите столбцы к нужным типам.\n",
    "\n",
    "Реализуйте несколько вариантов функции подсчета среднего значения столбца `rating` из таблицы `reviews` для отзывов, оставленных в 2010 году.\n",
    "\n",
    "A. С использованием метода `DataFrame.iterrows` исходной таблицы;\n",
    "\n",
    "Б. С использованием метода `DataFrame.iterrows` таблицы, в которой сохранены только отзывы за 2010 год;\n",
    "\n",
    "В. С использованием метода `Series.mean`.\n",
    "\n",
    "Проверьте, что результаты работы всех написанных функций корректны и совпадают. Измерьте выполнения всех написанных функций.\n"
   ]
  },
  {
   "cell_type": "code",
   "execution_count": 14,
   "metadata": {},
   "outputs": [
    {
     "name": "stdout",
     "output_type": "stream",
     "text": [
      "1) 4.4544402182900615\n",
      "2) 4.4544402182900615\n",
      "3) 4.4544402182900615\n",
      "\n",
      "\n",
      "mean1: 4.4544402182900615, time - 4.484178304672241\n",
      "mean2: 4.4544402182900615, time - 0.4145667552947998\n",
      "mean3: 4.4544402182900615, time - 0.7855618000030518\n"
     ]
    }
   ],
   "source": [
    "import pandas as pd\n",
    "import time\n",
    "recipes = pd.read_csv('recipes_sample.csv', index_col=0, delimiter=',')\n",
    "reviews = pd.read_csv('reviews_sample.csv', index_col=0, delimiter=',')\n",
    "reviews['date'] = pd.to_datetime(reviews['date'])\n",
    "def mean1(reviews):\n",
    "    sumall = 0\n",
    "    counter = 0\n",
    "    for index, row in reviews.iterrows():\n",
    "        if row['date'].year == 2010:\n",
    "            sumall += row['rating']\n",
    "            counter += 1\n",
    "    return sumall / counter\n",
    "def mean2(reviews):\n",
    "    sumall = 0\n",
    "    counter = 0\n",
    "    for index, row in reviews.loc[reviews['date'].dt.year == 2010].iterrows():\n",
    "        sumall += row['rating']\n",
    "        counter += 1\n",
    "    return sumall / counter\n",
    "def mean3(reviews):\n",
    "    filtered_reviews = reviews.loc[reviews['date'].astype(str).str.contains('2010')]\n",
    "    return filtered_reviews['rating'].mean()\n",
    "print(f'1) {mean1(reviews)}')\n",
    "print(f'2) {mean2(reviews)}')\n",
    "print(f'3) {mean3(reviews)}')\n",
    "print('\\n')\n",
    "start_time = time.time()\n",
    "res1 = mean1(reviews)\n",
    "end_time = time.time()\n",
    "print(f'mean1: {res1}, time - {end_time - start_time}')\n",
    "start_time = time.time()\n",
    "res2 = mean2(reviews)\n",
    "end_time = time.time()\n",
    "print(f'mean2: {res2}, time - {end_time - start_time}')\n",
    "start_time = time.time()\n",
    "res3 = mean3(reviews)\n",
    "end_time = time.time()\n",
    "print(f'mean3: {res3}, time - {end_time - start_time}')"
   ]
  },
  {
   "attachments": {},
   "cell_type": "markdown",
   "metadata": {},
   "source": [
    "2. Какая из созданных функций выполняется медленнее? Что наиболее сильно влияет на скорость выполнения? Для ответа использовать профайлер `line_profiler`. Сохраните результаты работы профайлера в отдельную текстовую ячейку и прокомментируйте результаты его работы.\n",
    "\n",
    "(*). Сможете ли вы ускорить работу функции 1Б, отказавшись от использования метода `iterrows`, но не используя метод `mean`?"
   ]
  },
  {
   "cell_type": "code",
   "execution_count": 15,
   "metadata": {},
   "outputs": [
    {
     "name": "stdout",
     "output_type": "stream",
     "text": [
      "Вариант A, так как мы итерируемся абсолютно по всем строкам, а в других вариантах мы проходимсятолько по отфильтрованным (только отзывы за 2010 год) строкам, что значительно уменьшает количество обрабатываемыхданных, вследствие чего сильно увеличивает время выполнения функции\n"
     ]
    }
   ],
   "source": [
    "print('Вариант A, так как мы итерируемся абсолютно по всем строкам, а в других вариантах мы проходимся\\\n",
    "только по отфильтрованным (только отзывы за 2010 год) строкам, что значительно уменьшает количество обрабатываемых\\\n",
    "данных, вследствие чего сильно увеличивает время выполнения функции')"
   ]
  },
  {
   "cell_type": "code",
   "execution_count": 19,
   "metadata": {},
   "outputs": [
    {
     "name": "stdout",
     "output_type": "stream",
     "text": [
      "Requirement already satisfied: line_profiler in c:\\programdata\\anaconda3\\lib\\site-packages (4.0.3)\n",
      "The line_profiler extension is already loaded. To reload it, use:\n",
      "  %reload_ext line_profiler\n",
      "Таким образом, используя лямбда-функцию и метод apply, мы сокращаем время выполнения программы, так какв памяти устройства во время выполнения функции не сохраняются данные, а в предыдущей версии функции сохранялись\n"
     ]
    }
   ],
   "source": [
    "!pip install line_profiler\n",
    "%load_ext line_profiler\n",
    "%lprun -f mean1 mean1(reviews)\n",
    "def mean1_2(reviews):\n",
    "    filtered_reviews = reviews[reviews['date'].dt.year == 2010]\n",
    "    count = len(filtered_reviews)\n",
    "    if count > 0:\n",
    "        return filtered_reviews['rating'].apply(lambda x: float(x)).sum() / count\n",
    "    else:\n",
    "        return None\n",
    "%lprun -f mean1_2 mean1_2(reviews)\n",
    "print('Таким образом, используя лямбда-функцию и метод apply, мы сокращаем время выполнения программы, так как\\\n",
    "в памяти устройства во время выполнения функции не сохраняются данные, а в предыдущей версии функции сохранялись')"
   ]
  },
  {
   "cell_type": "code",
   "execution_count": null,
   "metadata": {},
   "outputs": [],
   "source": [
    "Timer unit: 1e-07 s\n",
    "Total time: 0.020832 s\n",
    "Could not find file C:\\Users\\224995\\AppData\\Local\\Temp/ipykernel_1728/1939468982.py\n",
    "Are you sure you are running this program from the same directory\n",
    "that you ran the profiler from?\n",
    "Continuing without the function's contents.\n",
    "Line \n",
    "==============================================================\n",
    "     6                                           \n",
    "     7         1     116645.0 116645.0     56.0  \n",
    "     8         1         37.0     37.0      0.0  \n",
    "     9         1          3.0      3.0      0.0  \n",
    "    10         1      91635.0  91635.0     44.0"
   ]
  },
  {
   "attachments": {},
   "cell_type": "markdown",
   "metadata": {},
   "source": [
    "3. Вам предлагается воспользоваться функцией, которая собирает статистику о том, сколько отзывов содержат то или иное слово. Измерьте время выполнения этой функции. Сможете ли вы найти узкие места в коде, используя профайлер? Выпишите (словами), что в имеющемся коде реализовано неоптимально. Оптимизируйте функцию и добейтесь значительного (как минимум, на один порядок) прироста в скорости выполнения."
   ]
  },
  {
   "cell_type": "code",
   "execution_count": 18,
   "metadata": {},
   "outputs": [],
   "source": [
    "def get_word_reviews_count(df):\n",
    "    word_reviews = {}\n",
    "    for _, row in df.dropna(subset=['review']).iterrows():\n",
    "        recipe_id, review = row['recipe_id'], row['review']\n",
    "        words = review.split(' ')\n",
    "        for word in words:\n",
    "            if word not in word_reviews:\n",
    "                word_reviews[word] = []\n",
    "            word_reviews[word].append(recipe_id)\n",
    "    word_reviews_count = {}\n",
    "    for _, row in df.dropna(subset=['review']).iterrows():\n",
    "        review = row['review']\n",
    "        words = review.split(' ')\n",
    "        for word in words:\n",
    "            word_reviews_count[word] = len(word_reviews[word])\n",
    "    return word_reviews_count\n",
    "%lprun -f get_word_reviews_count get_word_reviews_count(reviews) \n",
    "from collections import defaultdict\n",
    "def get_word_reviews_count2(df):\n",
    "    word_reviews = defaultdict(list) \n",
    "    word_reviews_count = defaultdict(int) \n",
    "    for _, row in df.dropna(subset=['review']).iterrows():\n",
    "        recipe_id, review = row['recipe_id'], row['review']\n",
    "        for word in review.split():\n",
    "            word_reviews[word].append(recipe_id)\n",
    "    for word in word_reviews:\n",
    "        word_reviews_count[word] = len(word_reviews[word])\n",
    "%lprun -f get_word_reviews_count2 get_word_reviews_count2(reviews)"
   ]
  },
  {
   "cell_type": "code",
   "execution_count": null,
   "metadata": {},
   "outputs": [],
   "source": [
    "Timer unit: 1e-07 s\n",
    "Total time: 22.8831 s\n",
    "Could not find file C:\\Users\\224995\\AppData\\Local\\Temp/ipykernel_1728/2746826856.py\n",
    "Are you sure you are running this program from the same directory\n",
    "that you ran the profiler from?\n",
    "Continuing without the function's contents.\n",
    "Line \n",
    "==============================================================\n",
    "    23                                           \n",
    "    24         1         16.0     16.0      0.0  \n",
    "    25         1          6.0      6.0      0.0  \n",
    "    26    126679  138605885.0   1094.2     60.6  \n",
    "    27    126679   34074469.0    269.0     14.9  \n",
    "    28   6589870   21515723.0      3.3      9.4  \n",
    "    29   6589870   33225089.0      5.0     14.5  \n",
    "    30    164271     472519.0      2.9      0.2  \n",
    "    31    164271     937480.0      5.7      0.4"
   ]
  }
 ],
 "metadata": {
  "kernelspec": {
   "display_name": "Python 3 (ipykernel)",
   "language": "python",
   "name": "python3"
  },
  "language_info": {
   "codemirror_mode": {
    "name": "ipython",
    "version": 3
   },
   "file_extension": ".py",
   "mimetype": "text/x-python",
   "name": "python",
   "nbconvert_exporter": "python",
   "pygments_lexer": "ipython3",
   "version": "3.9.7"
  }
 },
 "nbformat": 4,
 "nbformat_minor": 4
}
